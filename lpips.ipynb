{
 "cells": [
  {
   "cell_type": "code",
   "execution_count": 2,
   "metadata": {},
   "outputs": [
    {
     "name": "stderr",
     "output_type": "stream",
     "text": [
      "usage: ipykernel_launcher.py [-h] [--epoch EPOCH] [--n_epochs N_EPOCHS]\n",
      "                             [--train_data TRAIN_DATA] [--val_data VAL_DATA]\n",
      "                             [--test_data TEST_DATA] [--batch_size BATCH_SIZE]\n",
      "                             [--lr LR] [--b1 B1] [--b2 B2]\n",
      "                             [--decay_epoch DECAY_EPOCH] [--n_cpu N_CPU]\n",
      "                             [--img_height IMG_HEIGHT] [--img_width IMG_WIDTH]\n",
      "                             [--channels CHANNELS]\n",
      "                             [--sample_interval SAMPLE_INTERVAL]\n",
      "                             [--checkpoint_interval CHECKPOINT_INTERVAL]\n",
      "                             [--n_residual_blocks N_RESIDUAL_BLOCKS]\n",
      "                             [--lambda_LoG LAMBDA_LOG]\n",
      "                             [--lambda_frame_GAN LAMBDA_FRAME_GAN]\n",
      "                             [--lambda_seq_GAN LAMBDA_SEQ_GAN]\n",
      "                             [--sequence_len SEQUENCE_LEN]\n",
      "                             [--save_model_path SAVE_MODEL_PATH]\n",
      "                             [--save_image_path SAVE_IMAGE_PATH]\n",
      "                             [--log_file LOG_FILE]\n",
      "ipykernel_launcher.py: error: unrecognized arguments: -f /home/ubd/.local/share/jupyter/runtime/kernel-c0edb100-9c1a-4557-982a-d5915500394f.json\n"
     ]
    },
    {
     "ename": "SystemExit",
     "evalue": "2",
     "output_type": "error",
     "traceback": [
      "An exception has occurred, use %tb to see the full traceback.\n",
      "\u001b[0;31mSystemExit\u001b[0m\u001b[0;31m:\u001b[0m 2\n"
     ]
    },
    {
     "name": "stderr",
     "output_type": "stream",
     "text": [
      "/home/ubd/anaconda3/envs/pytorch/lib/python3.6/site-packages/IPython/core/interactiveshell.py:2969: UserWarning: To exit: use 'exit', 'quit', or Ctrl-D.\n",
      "  warn(\"To exit: use 'exit', 'quit', or Ctrl-D.\", stacklevel=1)\n"
     ]
    }
   ],
   "source": [
    "import torch\n",
    "import lpips\n"
   ]
  },
  {
   "cell_type": "code",
   "execution_count": null,
   "metadata": {},
   "outputs": [],
   "source": [
    "loss_fn = lpips.LPIPS(net='alex')\n",
    "d = loss_fn.forward(im0,im1)"
   ]
  }
 ],
 "metadata": {
  "kernelspec": {
   "display_name": "Python 3",
   "language": "python",
   "name": "python3"
  },
  "language_info": {
   "codemirror_mode": {
    "name": "ipython",
    "version": 3
   },
   "file_extension": ".py",
   "mimetype": "text/x-python",
   "name": "python",
   "nbconvert_exporter": "python",
   "pygments_lexer": "ipython3",
   "version": "3.6.9"
  }
 },
 "nbformat": 4,
 "nbformat_minor": 2
}

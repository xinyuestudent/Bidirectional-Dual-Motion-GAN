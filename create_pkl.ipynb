{
 "cells": [
  {
   "cell_type": "code",
   "execution_count": 1,
   "metadata": {},
   "outputs": [],
   "source": [
    "import glob\n",
    "import random\n",
    "import os\n",
    "import torchvision.transforms as transforms\n",
    "import torch\n",
    "import random\n",
    "import pickle\n",
    "from PIL import Image"
   ]
  },
  {
   "cell_type": "code",
   "execution_count": 2,
   "metadata": {},
   "outputs": [],
   "source": [
    "# video_pkl_file = \"/home/ubd/EMANet-master/Video_Prediction_ZOO-master/RetrospectiveCycleGAN/dataset/pickle_data/train_data.pkl\"\n",
    "# train_pkl_file = open(video_pkl_file, 'rb')\n",
    "# data = pickle.load(train_pkl_file)\n",
    "#         # self.data = video_load(video_path,nt)\n",
    "# data.sort()\n",
    "# # frame_seq = []\n",
    "\n",
    "# # for img_name in data:\n",
    "# #             print(img_name)\n",
    "# # #             img = Image.open('/home/ubd/EMANet-master/Video_Prediction_ZOO-master/jpg/train/'+self.data[index])\n",
    "# # #             frame_seq.append(img)\n",
    "# # # frame_seq = torch.stack(frame_seq, 0)\n"
   ]
  },
  {
   "cell_type": "code",
   "execution_count": 3,
   "metadata": {},
   "outputs": [],
   "source": [
    "# data.sort()"
   ]
  },
  {
   "cell_type": "code",
   "execution_count": 4,
   "metadata": {},
   "outputs": [],
   "source": [
    "# for i in data[index-1:index]:\n",
    "#     img = Image.open('/home/ubd/EMANet-master/Video_Prediction_ZOO-master/jpg/train/'+i)"
   ]
  },
  {
   "cell_type": "code",
   "execution_count": 5,
   "metadata": {},
   "outputs": [],
   "source": [
    "# source_path = '/home/ubd/EMANet-master/Video_Prediction_ZOO-master/ubuntu_test/train/'\n",
    "# source_dir = os.listdir(source_path)\n",
    "# target_path = '/home/ubd/EMANet-master/Video_Prediction_ZOO-master/jpg/test0/'"
   ]
  },
  {
   "cell_type": "code",
   "execution_count": 6,
   "metadata": {},
   "outputs": [],
   "source": [
    "# import shutil"
   ]
  },
  {
   "cell_type": "code",
   "execution_count": 7,
   "metadata": {},
   "outputs": [],
   "source": [
    "# source_dir.sort()\n",
    "# i=0\n",
    "# for file in source_dir:\n",
    "#     print(file)\n",
    "#     name0 = file.split('.')\n",
    "#     name1 = name0[0].split('_')\n",
    "#     shutil.move(source_path+file,target_path+'%03.0f.png'%i)\n",
    "#     i+=1\n",
    "# print('ok')"
   ]
  },
  {
   "cell_type": "code",
   "execution_count": 8,
   "metadata": {},
   "outputs": [],
   "source": [
    "# name0 = file.split('.')\n",
    "# name1 = name0[0].split('_')"
   ]
  },
  {
   "cell_type": "code",
   "execution_count": 9,
   "metadata": {},
   "outputs": [],
   "source": [
    "# print('%03.0f.jpg'%0)"
   ]
  },
  {
   "cell_type": "code",
   "execution_count": 45,
   "metadata": {},
   "outputs": [],
   "source": [
    "path = '/home/ubd/EMANet-master/Video_Prediction_ZOO-master/cal_test/'"
   ]
  },
  {
   "cell_type": "code",
   "execution_count": 46,
   "metadata": {},
   "outputs": [],
   "source": [
    "train_pkl_file = os.listdir(path)"
   ]
  },
  {
   "cell_type": "code",
   "execution_count": 47,
   "metadata": {},
   "outputs": [],
   "source": [
    "train_pkl_file.sort()"
   ]
  },
  {
   "cell_type": "code",
   "execution_count": 48,
   "metadata": {},
   "outputs": [
    {
     "name": "stdout",
     "output_type": "stream",
     "text": [
      "create folder './dataset/pickle_data'\n"
     ]
    }
   ],
   "source": [
    "print(\"create folder './dataset/pickle_data'\")\n",
    "# data = pickle.load(train_pkl_file)\n",
    "# os.makedirs(\"./dataset/pickle_data\")\n",
    "train_dataset_output = open('./dataset/pickle_data/test_data.pkl', 'wb')\n",
    "pickle.dump(train_pkl_file, train_dataset_output)\n",
    "train_dataset_output.close()"
   ]
  },
  {
   "cell_type": "code",
   "execution_count": 49,
   "metadata": {},
   "outputs": [],
   "source": [
    "train_pkl_file = open('./dataset/pickle_data/test_data.pkl', 'rb')"
   ]
  },
  {
   "cell_type": "code",
   "execution_count": 50,
   "metadata": {},
   "outputs": [],
   "source": [
    "data = pickle.load(train_pkl_file)"
   ]
  },
  {
   "cell_type": "code",
   "execution_count": 51,
   "metadata": {},
   "outputs": [
    {
     "data": {
      "text/plain": [
       "21985"
      ]
     },
     "execution_count": 51,
     "metadata": {},
     "output_type": "execute_result"
    }
   ],
   "source": [
    "len(data)"
   ]
  },
  {
   "cell_type": "code",
   "execution_count": 23,
   "metadata": {},
   "outputs": [
    {
     "name": "stdout",
     "output_type": "stream",
     "text": [
      "img00001748.jpg\n"
     ]
    }
   ],
   "source": [
    "for img_name in data[1748:1749]:\n",
    "    print(img_name)"
   ]
  },
  {
   "cell_type": "code",
   "execution_count": null,
   "metadata": {},
   "outputs": [],
   "source": []
  }
 ],
 "metadata": {
  "kernelspec": {
   "display_name": "Python 3",
   "language": "python",
   "name": "python3"
  },
  "language_info": {
   "codemirror_mode": {
    "name": "ipython",
    "version": 3
   },
   "file_extension": ".py",
   "mimetype": "text/x-python",
   "name": "python",
   "nbconvert_exporter": "python",
   "pygments_lexer": "ipython3",
   "version": "3.6.9"
  }
 },
 "nbformat": 4,
 "nbformat_minor": 2
}
